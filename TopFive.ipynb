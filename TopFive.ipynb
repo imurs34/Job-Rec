{
 "cells": [
  {
   "cell_type": "code",
   "execution_count": null,
   "metadata": {},
   "outputs": [],
   "source": [
    "# input: 2 categories, jobs dict\n",
    "# output: top 5 jobs\n",
    "import random\n",
    "\n",
    "def TopFive(inputs, jobs_dict, n_choice):\n",
    "    rankings = list()\n",
    "    \n",
    "    # Based on 2 interests of a user, select 4 jobs\n",
    "    secure_random = random.SystemRandom()\n",
    "    for i in range(4):\n",
    "        sel = secure_random.choice(jobs_dict.get(inputs[i%n_choice]))\n",
    "        rankings.append(sel)\n",
    "        jobs_dict.get(inputs[i%n_choice]).remove(sel)\n",
    "        \n",
    "    # Remove already chosen categories\n",
    "    for i in range(n_choice):\n",
    "        jobs_dict.pop(inputs[i])\n",
    "    \n",
    "    # Select 1 random job\n",
    "    secure_random = random.SystemRandom()\n",
    "    random_category = secure_random.choice(list(jobs_dict))\n",
    "    random_job = secure_random.choice(jobs_dict.get(random_category))\n",
    "    rankings.append(random_job)\n",
    "        \n",
    "    return rankings"
   ]
  }
 ],
 "metadata": {
  "kernelspec": {
   "display_name": "Python 2",
   "language": "python",
   "name": "python2"
  },
  "language_info": {
   "codemirror_mode": {
    "name": "ipython",
    "version": 2
   },
   "file_extension": ".py",
   "mimetype": "text/x-python",
   "name": "python",
   "nbconvert_exporter": "python",
   "pygments_lexer": "ipython2",
   "version": "2.7.12"
  }
 },
 "nbformat": 4,
 "nbformat_minor": 2
}
