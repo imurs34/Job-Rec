{
 "cells": [
  {
   "cell_type": "code",
   "execution_count": 2,
   "metadata": {},
   "outputs": [
    {
     "name": "stdout",
     "output_type": "stream",
     "text": [
      "['lyft', 'Tour Guide', 'uber', 'Editor/sales', 'Blogger']\n"
     ]
    }
   ],
   "source": [
    "%run ReadExcel.ipynb\n",
    "%run TopFive.ipynb\n",
    "\n",
    "inputs = list()\n",
    "inputs.append('Driver')\n",
    "inputs.append('Events')\n",
    "\n",
    "categories = (ReadExcel('1099 job Categories')[0])\n",
    "jobs_dict = (ReadExcel('1099 job Categories')[1])\n",
    "result = TopFive(inputs, jobs_dict, 2)\n",
    "print(result)"
   ]
  }
 ],
 "metadata": {
  "kernelspec": {
   "display_name": "Python 2",
   "language": "python",
   "name": "python2"
  },
  "language_info": {
   "codemirror_mode": {
    "name": "ipython",
    "version": 2
   },
   "file_extension": ".py",
   "mimetype": "text/x-python",
   "name": "python",
   "nbconvert_exporter": "python",
   "pygments_lexer": "ipython2",
   "version": "2.7.12"
  }
 },
 "nbformat": 4,
 "nbformat_minor": 2
}
